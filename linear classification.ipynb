{
 "cells": [
  {
   "cell_type": "code",
   "execution_count": 1,
   "metadata": {},
   "outputs": [],
   "source": [
    "#linear regression and support vector machine\n"
   ]
  },
  {
   "cell_type": "code",
   "execution_count": 2,
   "metadata": {},
   "outputs": [],
   "source": [
    "#linear regression and bacth stochastic gradient descent"
   ]
  },
  {
   "cell_type": "code",
   "execution_count": 3,
   "metadata": {},
   "outputs": [],
   "source": [
    "#1) load the training set and validation set\n",
    "\n",
    "import numpy as np\n",
    "from sklearn.datasets import load_svmlight_file\n",
    "from sklearn.model_selection import train_test_split\n",
    "from io import BytesIO\n",
    "\n",
    "\n",
    "#training_set = load_svmlight_file('C:\\\\Users\\\\dell\\\\Desktop\\\\a9a.t')\n",
    "#validation_set =load_svmlight_file('C:\\\\Users\\\\dell\\\\Desktop\\\\a9a.t')\n",
    "    \n",
    "x,y = load_svmlight_file('C:\\\\Users\\\\dell\\\\Desktop\\\\a9a.t')\n",
    "x_train, x_val, y_train, y_val=train_test_split(x,y, test_size=0.4, random_state=0)\n",
    "x_train = x_train.toarray()\n",
    "x_val = x_val.toarray()\n"
   ]
  },
  {
   "cell_type": "code",
   "execution_count": 122,
   "metadata": {},
   "outputs": [],
   "source": [
    "import numpy as np\n",
    "from collections import defaultdict\n",
    "\n",
    "n_samples_training, n_features_training = x_train.shape\n",
    "x_train = np.concatenate((x_train, np.ones(shape=(n_samples_training, 1))), axis=1)\n",
    "y_train = y_train.reshape((n_samples_training, 1))\n",
    "\n",
    "n_samples_val, n_features_val = x_val.shape\n",
    "x_val = np.concatenate((x_val, np.ones(shape=(n_samples_val, 1))), axis=1)\n",
    "y_val = y_val.reshape((n_samples_val, 1))\n"
   ]
  },
  {
   "cell_type": "code",
   "execution_count": 123,
   "metadata": {},
   "outputs": [],
   "source": [
    "#2) initialize logistic regression parameter\n",
    "class Model(object):\n",
    "    def __init__(self, n_features):\n",
    "        self.params = np.random.random(size=(n_features, 1))\n",
    "        self.diffs = np.zeros((n_features, 1))\n",
    "        self.recorder = defaultdict(list)\n",
    "\n",
    "    def train(self, X, Y):\n",
    "        pass\n",
    "\n",
    "    def validate(self, X, Y):\n",
    "        self.__loss__(X, Y, \"validation\")\n",
    "\n",
    "    def predict(self, X):\n",
    "        pass\n",
    "\n",
    "    def __calculate_gradient__(self, params=None):\n",
    "        pass\n",
    "\n",
    "    def __loss__(self, X, Y, key):\n",
    "        pass"
   ]
  },
  {
   "cell_type": "code",
   "execution_count": 124,
   "metadata": {},
   "outputs": [],
   "source": [
    "class SVM(Model):\n",
    "    def __init__(self, n_features, C):\n",
    "        super(SVM, self).__init__(n_features=n_features)\n",
    "        self.C = C\n",
    "        self.x_train = None\n",
    "        self.y_train = None\n",
    "\n",
    "    def train(self, X, Y):\n",
    "        self.x_train = X\n",
    "        self.y_train = Y\n",
    "\n",
    "    def predict(self, X):\n",
    "        return np.where(np.dot(X, self.params) > 0, 1, -1)\n",
    "\n",
    "    def __calculate_gradient__(self, params=None):\n",
    "        if params is None:\n",
    "            params = self.params\n",
    "        h = 1 - self.y_train * np.dot(self.x_train, params)\n",
    "        y_mask = np.where(h > 0, self.y_train, 0)\n",
    "        self.diffs = params - self.C * np.dot(self.x_train.transpose(), y_mask)\n",
    "\n",
    "    def __loss__(self, X, Y, key):\n",
    "        loss = np.sum(self.params * self.params) \\\n",
    "               + self.C * np.sum(np.maximum(1 - Y * np.dot(X, self.params), 0))\n",
    "        self.recorder[key].append(loss)"
   ]
  },
  {
   "cell_type": "code",
   "execution_count": 125,
   "metadata": {},
   "outputs": [],
   "source": [
    "class Optimizer(object):\n",
    "    def __init__(self, model):\n",
    "        self.model = model\n",
    "        self.color = None\n",
    "\n",
    "    def step(self):\n",
    "        pass"
   ]
  },
  {
   "cell_type": "code",
   "execution_count": 126,
   "metadata": {},
   "outputs": [],
   "source": [
    "class SGD(Optimizer):\n",
    "    def __init__(self, model, learning_rate, momentum=None):\n",
    "        super(SGD, self).__init__(model=model)\n",
    "        self.color = \"r\"\n",
    "        self.learning_rate = learning_rate\n",
    "        self.momentum = momentum\n",
    "        if momentum is not None:\n",
    "            self.v = np.zeros_like(self.model.diffs)\n",
    "\n",
    "    def step(self):\n",
    "        self.model.__calculate_gradient__()\n",
    "        if self.momentum is None:\n",
    "            self.model.params -= self.learning_rate * self.model.diffs\n",
    "        else:\n",
    "            self.v = self.momentum * self.v + self.learning_rate * self.model.diffs\n",
    "            self.model.params -= self.v"
   ]
  },
  {
   "cell_type": "code",
   "execution_count": 127,
   "metadata": {},
   "outputs": [],
   "source": [
    "class NAG(Optimizer):\n",
    "    def __init__(self, model, learning_rate, momentum):\n",
    "        super(NAG, self).__init__(model=model)\n",
    "        self.color = \"y\"\n",
    "        self.learning_rate = learning_rate\n",
    "        self.momentum = momentum\n",
    "        self.v = np.zeros_like(self.model.diffs)\n",
    "\n",
    "    def step(self):\n",
    "        self.model.__calculate_gradient__(params=self.model.params - self.momentum * self.v)\n",
    "        self.v = self.momentum * self.v + self.learning_rate * self.model.diffs\n",
    "        self.model.params -= self.v"
   ]
  },
  {
   "cell_type": "code",
   "execution_count": 128,
   "metadata": {},
   "outputs": [],
   "source": [
    "class RMSProP(Optimizer):\n",
    "    def __init__(self, model, leaning_rate, weight_decay):\n",
    "        self.color = \"c\"\n",
    "        super(RMSProP, self).__init__(model=model)\n",
    "        self.G = np.zeros_like(self.model.diffs)\n",
    "        self.learning_rate = leaning_rate\n",
    "        self.weight_decay = weight_decay\n",
    "        self.epsilon = 1e-8\n",
    "\n",
    "    def step(self):\n",
    "        self.model.__calculate_gradient__()\n",
    "        self.G = self.weight_decay * self.G + (1 - self.weight_decay) * self.model.diffs * self.model.diffs\n",
    "        self.model.params -= self.learning_rate / np.sqrt(self.G + self.epsilon) * self.model.diffs\n"
   ]
  },
  {
   "cell_type": "code",
   "execution_count": 129,
   "metadata": {},
   "outputs": [],
   "source": [
    "class AdaDelta(Optimizer):\n",
    "    def __init__(self, model, gamma):\n",
    "        super(AdaDelta, self).__init__(model=model)\n",
    "        self.color = \"b\"\n",
    "        self.gamma = gamma\n",
    "        self.G = np.zeros_like(self.model.diffs)\n",
    "        self.delta = np.zeros_like(self.model.diffs)\n",
    "        self.delta_theta = np.zeros_like(self.model.diffs)\n",
    "        self.epsilon = 1e-4\n",
    "\n",
    "    def step(self):\n",
    "        self.model.__calculate_gradient__()\n",
    "        self.G = self.gamma * self.G + (1 - self.gamma) * self.model.diffs * self.model.diffs\n",
    "        self.delta_theta = -(np.sqrt(self.delta + self.epsilon)\n",
    "                             / np.sqrt(self.G + self.epsilon)) * self.model.diffs\n",
    "        self.model.params += self.delta_theta\n",
    "        self.delta = self.gamma * self.delta + (1 - self.gamma) * self.delta_theta * self.delta_theta\n"
   ]
  },
  {
   "cell_type": "code",
   "execution_count": 130,
   "metadata": {},
   "outputs": [],
   "source": [
    "class Adam(Optimizer):\n",
    "    def __init__(self, model, beta, gamma, eta):\n",
    "        super(Adam, self).__init__(model=model)\n",
    "        self.color = \"m\"\n",
    "        self.beta = beta\n",
    "        self.gamma = gamma\n",
    "        self.eta = eta\n",
    "        self.m = np.zeros_like(self.model.diffs)\n",
    "        self.G = np.zeros_like(self.model.diffs)\n",
    "        self.epsilon = 1e-8\n",
    "\n",
    "    def step(self):\n",
    "        self.model.__calculate_gradient__()\n",
    "        self.m = self.beta * self.m + (1 - self.beta) * self.model.diffs\n",
    "        self.G = self.gamma * self.G + (1 - self.gamma) * self.model.diffs * self.model.diffs\n",
    "        alpha = self.eta * (np.sqrt(1 - self.gamma)) / (1 - self.beta)\n",
    "        self.model.params -= alpha * self.m / np.sqrt(self.G + self.epsilon)"
   ]
  },
  {
   "cell_type": "code",
   "execution_count": 131,
   "metadata": {},
   "outputs": [],
   "source": [
    "optimizers = [\n",
    "    SGD(model=SVM(n_features=123 + 1, C=1), learning_rate=0.00001, momentum=0.5),\n",
    "    NAG(model=SVM(n_features=123 + 1, C=1), learning_rate=0.0001, momentum=0.9),\n",
    "    RMSProP(model=SVM(n_features=123 + 1,C=1),leaning_rate=0.1,weight_decay=0.9),\n",
    "    AdaDelta(model=SVM(n_features=123 + 1,C=1), gamma=0.95),\n",
    "    Adam(model=SVM(n_features=123 + 1,C=1),beta=0.9,gamma=0.999,eta=0.1)\n",
    "]"
   ]
  },
  {
   "cell_type": "code",
   "execution_count": 141,
   "metadata": {},
   "outputs": [
    {
     "ename": "ValueError",
     "evalue": "shapes (10000,123) and (124,1) not aligned: 123 (dim 1) != 124 (dim 0)",
     "output_type": "error",
     "traceback": [
      "\u001b[1;31m---------------------------------------------------------------------------\u001b[0m",
      "\u001b[1;31mValueError\u001b[0m                                Traceback (most recent call last)",
      "\u001b[1;32m<ipython-input-141-cd0d346e2a9d>\u001b[0m in \u001b[0;36m<module>\u001b[1;34m()\u001b[0m\n\u001b[0;32m      5\u001b[0m     \u001b[1;32mfor\u001b[0m \u001b[0moptimizer\u001b[0m \u001b[1;32min\u001b[0m \u001b[0moptimizers\u001b[0m\u001b[1;33m:\u001b[0m\u001b[1;33m\u001b[0m\u001b[0m\n\u001b[0;32m      6\u001b[0m         \u001b[0moptimizer\u001b[0m\u001b[1;33m.\u001b[0m\u001b[0mmodel\u001b[0m\u001b[1;33m.\u001b[0m\u001b[0mtrain\u001b[0m\u001b[1;33m(\u001b[0m\u001b[0mx_train\u001b[0m\u001b[1;33m[\u001b[0m\u001b[0mindexes\u001b[0m\u001b[1;33m]\u001b[0m\u001b[1;33m,\u001b[0m \u001b[0my_train\u001b[0m\u001b[1;33m[\u001b[0m\u001b[0mindexes\u001b[0m\u001b[1;33m]\u001b[0m\u001b[1;33m)\u001b[0m\u001b[1;33m\u001b[0m\u001b[0m\n\u001b[1;32m----> 7\u001b[1;33m         \u001b[0moptimizer\u001b[0m\u001b[1;33m.\u001b[0m\u001b[0mstep\u001b[0m\u001b[1;33m(\u001b[0m\u001b[1;33m)\u001b[0m\u001b[1;33m\u001b[0m\u001b[0m\n\u001b[0m\u001b[0;32m      8\u001b[0m         \u001b[0moptimizer\u001b[0m\u001b[1;33m.\u001b[0m\u001b[0mmodel\u001b[0m\u001b[1;33m.\u001b[0m\u001b[0mvalidate\u001b[0m\u001b[1;33m(\u001b[0m\u001b[0mx_val\u001b[0m\u001b[1;33m,\u001b[0m \u001b[0my_val\u001b[0m\u001b[1;33m)\u001b[0m\u001b[1;33m\u001b[0m\u001b[0m\n\u001b[0;32m      9\u001b[0m \u001b[1;33m\u001b[0m\u001b[0m\n",
      "\u001b[1;32m<ipython-input-126-a1ebdd93edee>\u001b[0m in \u001b[0;36mstep\u001b[1;34m(self)\u001b[0m\n\u001b[0;32m      9\u001b[0m \u001b[1;33m\u001b[0m\u001b[0m\n\u001b[0;32m     10\u001b[0m     \u001b[1;32mdef\u001b[0m \u001b[0mstep\u001b[0m\u001b[1;33m(\u001b[0m\u001b[0mself\u001b[0m\u001b[1;33m)\u001b[0m\u001b[1;33m:\u001b[0m\u001b[1;33m\u001b[0m\u001b[0m\n\u001b[1;32m---> 11\u001b[1;33m         \u001b[0mself\u001b[0m\u001b[1;33m.\u001b[0m\u001b[0mmodel\u001b[0m\u001b[1;33m.\u001b[0m\u001b[0m__calculate_gradient__\u001b[0m\u001b[1;33m(\u001b[0m\u001b[1;33m)\u001b[0m\u001b[1;33m\u001b[0m\u001b[0m\n\u001b[0m\u001b[0;32m     12\u001b[0m         \u001b[1;32mif\u001b[0m \u001b[0mself\u001b[0m\u001b[1;33m.\u001b[0m\u001b[0mmomentum\u001b[0m \u001b[1;32mis\u001b[0m \u001b[1;32mNone\u001b[0m\u001b[1;33m:\u001b[0m\u001b[1;33m\u001b[0m\u001b[0m\n\u001b[0;32m     13\u001b[0m             \u001b[0mself\u001b[0m\u001b[1;33m.\u001b[0m\u001b[0mmodel\u001b[0m\u001b[1;33m.\u001b[0m\u001b[0mparams\u001b[0m \u001b[1;33m-=\u001b[0m \u001b[0mself\u001b[0m\u001b[1;33m.\u001b[0m\u001b[0mlearning_rate\u001b[0m \u001b[1;33m*\u001b[0m \u001b[0mself\u001b[0m\u001b[1;33m.\u001b[0m\u001b[0mmodel\u001b[0m\u001b[1;33m.\u001b[0m\u001b[0mdiffs\u001b[0m\u001b[1;33m\u001b[0m\u001b[0m\n",
      "\u001b[1;32m<ipython-input-124-8337f8942f0b>\u001b[0m in \u001b[0;36m__calculate_gradient__\u001b[1;34m(self, params)\u001b[0m\n\u001b[0;32m     16\u001b[0m         \u001b[1;32mif\u001b[0m \u001b[0mparams\u001b[0m \u001b[1;32mis\u001b[0m \u001b[1;32mNone\u001b[0m\u001b[1;33m:\u001b[0m\u001b[1;33m\u001b[0m\u001b[0m\n\u001b[0;32m     17\u001b[0m             \u001b[0mparams\u001b[0m \u001b[1;33m=\u001b[0m \u001b[0mself\u001b[0m\u001b[1;33m.\u001b[0m\u001b[0mparams\u001b[0m\u001b[1;33m\u001b[0m\u001b[0m\n\u001b[1;32m---> 18\u001b[1;33m         \u001b[0mh\u001b[0m \u001b[1;33m=\u001b[0m \u001b[1;36m1\u001b[0m \u001b[1;33m-\u001b[0m \u001b[0mself\u001b[0m\u001b[1;33m.\u001b[0m\u001b[0my_train\u001b[0m \u001b[1;33m*\u001b[0m \u001b[0mnp\u001b[0m\u001b[1;33m.\u001b[0m\u001b[0mdot\u001b[0m\u001b[1;33m(\u001b[0m\u001b[0mself\u001b[0m\u001b[1;33m.\u001b[0m\u001b[0mx_train\u001b[0m\u001b[1;33m,\u001b[0m \u001b[0mparams\u001b[0m\u001b[1;33m)\u001b[0m\u001b[1;33m\u001b[0m\u001b[0m\n\u001b[0m\u001b[0;32m     19\u001b[0m         \u001b[0my_mask\u001b[0m \u001b[1;33m=\u001b[0m \u001b[0mnp\u001b[0m\u001b[1;33m.\u001b[0m\u001b[0mwhere\u001b[0m\u001b[1;33m(\u001b[0m\u001b[0mh\u001b[0m \u001b[1;33m>\u001b[0m \u001b[1;36m0\u001b[0m\u001b[1;33m,\u001b[0m \u001b[0mself\u001b[0m\u001b[1;33m.\u001b[0m\u001b[0my_train\u001b[0m\u001b[1;33m,\u001b[0m \u001b[1;36m0\u001b[0m\u001b[1;33m)\u001b[0m\u001b[1;33m\u001b[0m\u001b[0m\n\u001b[0;32m     20\u001b[0m         \u001b[0mself\u001b[0m\u001b[1;33m.\u001b[0m\u001b[0mdiffs\u001b[0m \u001b[1;33m=\u001b[0m \u001b[0mparams\u001b[0m \u001b[1;33m-\u001b[0m \u001b[0mself\u001b[0m\u001b[1;33m.\u001b[0m\u001b[0mC\u001b[0m \u001b[1;33m*\u001b[0m \u001b[0mnp\u001b[0m\u001b[1;33m.\u001b[0m\u001b[0mdot\u001b[0m\u001b[1;33m(\u001b[0m\u001b[0mself\u001b[0m\u001b[1;33m.\u001b[0m\u001b[0mx_train\u001b[0m\u001b[1;33m.\u001b[0m\u001b[0mtranspose\u001b[0m\u001b[1;33m(\u001b[0m\u001b[1;33m)\u001b[0m\u001b[1;33m,\u001b[0m \u001b[0my_mask\u001b[0m\u001b[1;33m)\u001b[0m\u001b[1;33m\u001b[0m\u001b[0m\n",
      "\u001b[1;31mValueError\u001b[0m: shapes (10000,123) and (124,1) not aligned: 123 (dim 1) != 124 (dim 0)"
     ]
    }
   ],
   "source": [
    "max_epoch = 100\n",
    "batch_size = 10000\n",
    "for epoch in range(max_epoch):\n",
    "    indexes = np.random.randint(0, n_samples_training, size=batch_size)\n",
    "    for optimizer in optimizers:\n",
    "        optimizer.model.train(x_train[indexes], y_train[indexes])\n",
    "        optimizer.step()\n",
    "        optimizer.model.validate(x_val, y_val)\n",
    "\n",
    "from sklearn.metrics import classification_report\n",
    "print(\"\\t\\t\\t\"+optimizers[0].model.__class__.__name__)\n",
    "print(\"-\"*60)\n",
    "for optimizer in optimizers:\n",
    "    print(\"\\t\\t\\t\"+optimizer.__class__.__name__)\n",
    "    print(\"-\"*60)\n",
    "    print(classification_report(y_val,\n",
    "                                optimizer.model.predict(x_val),\n",
    "                                target_names=[\"positive\", \"negative\"],\n",
    "                                digits=3))"
   ]
  },
  {
   "cell_type": "code",
   "execution_count": 19,
   "metadata": {},
   "outputs": [
    {
     "ename": "NameError",
     "evalue": "name 'optimizers' is not defined",
     "output_type": "error",
     "traceback": [
      "\u001b[1;31m---------------------------------------------------------------------------\u001b[0m",
      "\u001b[1;31mNameError\u001b[0m                                 Traceback (most recent call last)",
      "\u001b[1;32m<ipython-input-19-bac2b5a8075d>\u001b[0m in \u001b[0;36m<module>\u001b[1;34m()\u001b[0m\n\u001b[0;32m      5\u001b[0m \u001b[0mplt\u001b[0m\u001b[1;33m.\u001b[0m\u001b[0mylabel\u001b[0m\u001b[1;33m(\u001b[0m\u001b[1;34m\"loss\"\u001b[0m\u001b[1;33m)\u001b[0m\u001b[1;33m\u001b[0m\u001b[0m\n\u001b[0;32m      6\u001b[0m \u001b[0mplt\u001b[0m\u001b[1;33m.\u001b[0m\u001b[0mtitle\u001b[0m\u001b[1;33m(\u001b[0m\u001b[1;34m\"Linear Classification and Stocastic Gradient Descent\"\u001b[0m\u001b[1;33m)\u001b[0m\u001b[1;33m\u001b[0m\u001b[0m\n\u001b[1;32m----> 7\u001b[1;33m \u001b[1;32mfor\u001b[0m \u001b[0moptimizer\u001b[0m \u001b[1;32min\u001b[0m \u001b[0moptimizers\u001b[0m\u001b[1;33m:\u001b[0m\u001b[1;33m\u001b[0m\u001b[0m\n\u001b[0m\u001b[0;32m      8\u001b[0m     \u001b[0mplt\u001b[0m\u001b[1;33m.\u001b[0m\u001b[0mplot\u001b[0m\u001b[1;33m(\u001b[0m\u001b[0moptimizer\u001b[0m\u001b[1;33m.\u001b[0m\u001b[0mmodel\u001b[0m\u001b[1;33m.\u001b[0m\u001b[0mrecorder\u001b[0m\u001b[1;33m[\u001b[0m\u001b[1;34m\"validation\"\u001b[0m\u001b[1;33m]\u001b[0m\u001b[1;33m,\u001b[0m \u001b[0mcolor\u001b[0m\u001b[1;33m=\u001b[0m\u001b[0moptimizer\u001b[0m\u001b[1;33m.\u001b[0m\u001b[0mcolor\u001b[0m\u001b[1;33m,\u001b[0m \u001b[0mlabel\u001b[0m\u001b[1;33m=\u001b[0m\u001b[0moptimizer\u001b[0m\u001b[1;33m.\u001b[0m\u001b[0m__class__\u001b[0m\u001b[1;33m.\u001b[0m\u001b[0m__name__\u001b[0m\u001b[1;33m)\u001b[0m\u001b[1;33m\u001b[0m\u001b[0m\n\u001b[0;32m      9\u001b[0m \u001b[0mplt\u001b[0m\u001b[1;33m.\u001b[0m\u001b[0mlegend\u001b[0m\u001b[1;33m(\u001b[0m\u001b[1;33m)\u001b[0m\u001b[1;33m\u001b[0m\u001b[0m\n",
      "\u001b[1;31mNameError\u001b[0m: name 'optimizers' is not defined"
     ]
    },
    {
     "data": {
      "image/png": "[encoded data removed]",
      "text/plain": [
       "<Figure size 1152x648 with 1 Axes>"
      ]
     },
     "metadata": {
      "needs_background": "light"
     },
     "output_type": "display_data"
    }
   ],
   "source": [
    "import matplotlib.pyplot as plt\n",
    "%matplotlib inline\n",
    "plt.figure(figsize=(16,9))\n",
    "plt.xlabel(\"epoch\")\n",
    "plt.ylabel(\"loss\")\n",
    "plt.title(\"Linear Classification and Stocastic Gradient Descent\")\n",
    "for optimizer in optimizers:\n",
    "    plt.plot(optimizer.model.recorder[\"validation\"], color=optimizer.color, label=optimizer.__class__.__name__)\n",
    "plt.legend()\n",
    "plt.show()"
   ]
  },
  {
   "cell_type": "code",
   "execution_count": 138,
   "metadata": {},
   "outputs": [
    {
     "data": {
      "text/plain": [
       "(6513, 123)"
      ]
     },
     "execution_count": 138,
     "metadata": {},
     "output_type": "execute_result"
    }
   ],
   "source": [
    "x_val.shape\n"
   ]
  },
  {
   "cell_type": "code",
   "execution_count": 139,
   "metadata": {},
   "outputs": [
    {
     "data": {
      "text/plain": [
       "(6513, 1)"
      ]
     },
     "execution_count": 139,
     "metadata": {},
     "output_type": "execute_result"
    }
   ],
   "source": [
    "\n",
    "y_val.shape"
   ]
  },
  {
   "cell_type": "code",
   "execution_count": null,
   "metadata": {},
   "outputs": [],
   "source": []
  }
 ],
 "metadata": {
  "kernelspec": {
   "display_name": "Python 3",
   "language": "python",
   "name": "python3"
  },
  "language_info": {
   "codemirror_mode": {
    "name": "ipython",
    "version": 3
   },
   "file_extension": ".py",
   "mimetype": "text/x-python",
   "name": "python",
   "nbconvert_exporter": "python",
   "pygments_lexer": "ipython3",
   "version": "3.7.0"
  }
 },
 "nbformat": 4,
 "nbformat_minor": 2
}
