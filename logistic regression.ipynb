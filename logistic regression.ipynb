{
 "cells": [
  {
   "cell_type": "code",
   "execution_count": 26,
   "metadata": {},
   "outputs": [],
   "source": [
    "\n",
    "from sklearn.datasets import load_svmlight_file\n",
    "training_set = load_svmlight_file('C:\\\\Users\\\\dell\\\\Desktop\\\\a9a.t')\n",
    "validation_set = load_svmlight_file('C:\\\\Users\\\\dell\\\\Desktop\\\\a9a.t')\n",
    "#print(training_set)\n",
    "#print(validation_set)"
   ]
  },
  {
   "cell_type": "code",
   "execution_count": 27,
   "metadata": {},
   "outputs": [
    {
     "ename": "AttributeError",
     "evalue": "'numpy.ndarray' object has no attribute 'toarray'",
     "output_type": "error",
     "traceback": [
      "\u001b[1;31m---------------------------------------------------------------------------\u001b[0m",
      "\u001b[1;31mAttributeError\u001b[0m                            Traceback (most recent call last)",
      "\u001b[1;32m<ipython-input-27-aa8bf35b2775>\u001b[0m in \u001b[0;36m<module>\u001b[1;34m()\u001b[0m\n\u001b[0;32m      4\u001b[0m \u001b[1;31m#X_training, Y_training = load_svmlight_file(training_set, n_features=123)\u001b[0m\u001b[1;33m\u001b[0m\u001b[1;33m\u001b[0m\u001b[0m\n\u001b[0;32m      5\u001b[0m \u001b[1;31m#X_validation, Y_validation = load_svmlight_file(validation_set, n_features=123)\u001b[0m\u001b[1;33m\u001b[0m\u001b[1;33m\u001b[0m\u001b[0m\n\u001b[1;32m----> 6\u001b[1;33m \u001b[0mX_training\u001b[0m \u001b[1;33m=\u001b[0m \u001b[0mX_training\u001b[0m\u001b[1;33m.\u001b[0m\u001b[0mtoarray\u001b[0m\u001b[1;33m(\u001b[0m\u001b[1;33m)\u001b[0m\u001b[1;33m\u001b[0m\u001b[0m\n\u001b[0m\u001b[0;32m      7\u001b[0m \u001b[0mX_validation\u001b[0m \u001b[1;33m=\u001b[0m \u001b[0mX_validation\u001b[0m\u001b[1;33m.\u001b[0m\u001b[0mtoarray\u001b[0m\u001b[1;33m(\u001b[0m\u001b[1;33m)\u001b[0m\u001b[1;33m\u001b[0m\u001b[0m\n\u001b[0;32m      8\u001b[0m \u001b[1;33m\u001b[0m\u001b[0m\n",
      "\u001b[1;31mAttributeError\u001b[0m: 'numpy.ndarray' object has no attribute 'toarray'"
     ]
    }
   ],
   "source": [
    "from io import BytesIO\n",
    "from sklearn.datasets import load_svmlight_file\n",
    "\n",
    "#X_training, Y_training = load_svmlight_file(training_set, n_features=123)\n",
    "#X_validation, Y_validation = load_svmlight_file(validation_set, n_features=123)\n",
    "X_training = X_training.toarray()\n",
    "X_validation = X_validation.toarray()\n",
    "\n",
    "#print(X_training)\n",
    "#print(X_validation)"
   ]
  },
  {
   "cell_type": "code",
   "execution_count": 6,
   "metadata": {},
   "outputs": [],
   "source": [
    "import numpy as np\n",
    "from collections import defaultdict\n",
    "\n",
    "n_samples_training, n_features_training = X_training.shape\n",
    "X_training = np.concatenate((X_training, np.ones(shape=(n_samples_training, 1))), axis=1)\n",
    "Y_training = Y_training.reshape((n_samples_training, 1))\n",
    "\n",
    "n_samples_validation, n_features_validation = X_validation.shape\n",
    "X_validation = np.concatenate((X_validation, np.ones(shape=(n_samples_validation, 1))), axis=1)\n",
    "Y_validation = Y_validation.reshape((n_samples_validation, 1))\n",
    "\n",
    "#print(Y_training)\n",
    "#print(Y_validation)"
   ]
  },
  {
   "cell_type": "code",
   "execution_count": 7,
   "metadata": {},
   "outputs": [],
   "source": [
    "class Model(object):\n",
    "    def __init__(self, n_features):\n",
    "        self.params = np.random.random(size=(n_features, 1))\n",
    "        self.diffs = np.zeros((n_features, 1))\n",
    "        self.recorder = defaultdict(list)\n",
    "        \n",
    "    def train(self, X, Y):\n",
    "        pass\n",
    "\n",
    "    def validate(self, X, Y):\n",
    "        self.__loss__(X, Y, \"validation\")\n",
    "\n",
    "    def predict(self, X):\n",
    "        pass\n",
    "\n",
    "    def __calculate_gradient__(self, params=None):\n",
    "        pass\n",
    "\n",
    "    def __loss__(self, X, Y, key):\n",
    "        pass\n"
   ]
  },
  {
   "cell_type": "code",
   "execution_count": 8,
   "metadata": {},
   "outputs": [],
   "source": [
    "class LogisticRegression(Model):\n",
    "    def __init__(self, n_features):\n",
    "        super(LogisticRegression, self).__init__(n_features=n_features)\n",
    "        self.X_training = None\n",
    "        self.Y_training = None\n",
    "\n",
    "    def train(self, X, Y):\n",
    "        self.X_training = X\n",
    "        self.Y_training = Y\n",
    "\n",
    "    def predict(self, X):\n",
    "        return np.where(np.dot(X, self.params) > 0, 1, 0)\n",
    "\n",
    "    def __calculate_gradient__(self, params=None):\n",
    "        if params is None:\n",
    "            params = self.params\n",
    "        y_hat = 1 / (1 + np.exp(-np.dot(self.X_training, params)))\n",
    "        self.diffs = np.dot(self.X_training.transpose(), (y_hat - self.Y_training))\n",
    "\n",
    "    def __loss__(self, X, Y, key):\n",
    "        y_hat = 1 / (1 + np.exp(-np.dot(X, self.params)))\n",
    "        loss = -np.average(Y * np.log(y_hat) + (1 - Y) * np.log(1 - y_hat))\n",
    "        self.recorder[key].append(loss)"
   ]
  },
  {
   "cell_type": "code",
   "execution_count": 9,
   "metadata": {},
   "outputs": [],
   "source": [
    "class Optimizer(object):\n",
    "    def __init__(self, model):\n",
    "        self.model = model\n",
    "        self.color = None\n",
    "\n",
    "    def step(self):\n",
    "        pass"
   ]
  },
  {
   "cell_type": "code",
   "execution_count": 10,
   "metadata": {},
   "outputs": [],
   "source": [
    "class SGD(Optimizer):\n",
    "    def __init__(self, model, learning_rate, momentum=None):\n",
    "        super(SGD, self).__init__(model=model)\n",
    "        self.color = \"r\"\n",
    "        self.learning_rate = learning_rate\n",
    "        self.momentum = momentum\n",
    "        if momentum is not None:\n",
    "            self.v = np.zeros_like(self.model.diffs)\n",
    "\n",
    "    def step(self):\n",
    "        self.model.__calculate_gradient__()\n",
    "        if self.momentum is None:\n",
    "            self.model.params -= self.learning_rate * self.model.diffs\n",
    "        else:\n",
    "            self.v = self.momentum * self.v + self.learning_rate * self.model.diffs\n",
    "            self.model.params -= self.v"
   ]
  },
  {
   "cell_type": "code",
   "execution_count": 11,
   "metadata": {},
   "outputs": [],
   "source": [
    "#Nesterov accelerated gradient (NAG)\n",
    "#vt=γvt−1+η∇θJ(θ−γvt−1)\n",
    "#θ=θ−vt\n",
    "class NAG(Optimizer):\n",
    "    def __init__(self, model, learning_rate, momentum):\n",
    "        super(NAG, self).__init__(model=model)\n",
    "        self.color = \"y\"\n",
    "        self.learning_rate = learning_rate\n",
    "        self.momentum = momentum\n",
    "        self.v = np.zeros_like(self.model.diffs)\n",
    "    def step(self):\n",
    "        self.model.__calculate_gradient__(params=self.model.params - self.momentum * self.v)\n",
    "        self.v = self.momentum * self.v + self.learning_rate * self.model.diffs\n",
    "        self.model.params -= self.v\n",
    "    "
   ]
  },
  {
   "cell_type": "code",
   "execution_count": 12,
   "metadata": {},
   "outputs": [],
   "source": [
    "class Adam(Optimizer):\n",
    "    def __init__(self, model, beta, gamma, eta):\n",
    "        super(Adam, self).__init__(model=model)\n",
    "        self.color = \"g\"\n",
    "        self.beta = beta\n",
    "        self.gamma = gamma\n",
    "        self.eta = eta\n",
    "        self.m = np.zeros_like(self.model.diffs)\n",
    "        self.G = np.zeros_like(self.model.diffs)\n",
    "        self.epsilon = 1e-8\n",
    "\n",
    "    def step(self):\n",
    "        self.model.__calculate_gradient__()\n",
    "        self.m = self.beta * self.m + (1 - self.beta) * self.model.diffs\n",
    "        self.G = self.gamma * self.G + (1 - self.gamma) * self.model.diffs * self.model.diffs\n",
    "        alpha = self.eta * (np.sqrt(1 - self.gamma)) / (1 - self.beta)\n",
    "        self.model.params -= alpha * self.m / np.sqrt(self.G + self.epsilon)"
   ]
  },
  {
   "cell_type": "code",
   "execution_count": 13,
   "metadata": {},
   "outputs": [],
   "source": [
    "class AdaDelta(Optimizer):\n",
    "    def __init__(self, model, gamma):\n",
    "        super(AdaDelta, self).__init__(model=model)\n",
    "        self.color = \"b\"\n",
    "        self.gamma = gamma\n",
    "        self.G = np.zeros_like(self.model.diffs)\n",
    "        self.delta = np.zeros_like(self.model.diffs)\n",
    "        self.delta_theta = np.zeros_like(self.model.diffs)\n",
    "        self.epsilon = 1e-4\n",
    "\n",
    "    def step(self):\n",
    "        self.model.__calculate_gradient__()\n",
    "        self.G = self.gamma * self.G + (1 - self.gamma) * self.model.diffs * self.model.diffs\n",
    "        self.delta_theta = -(np.sqrt(self.delta + self.epsilon)\n",
    "                             / np.sqrt(self.G + self.epsilon)) * self.model.diffs\n",
    "        self.model.params += self.delta_theta\n",
    "        self.delta = self.gamma * self.delta + (1 - self.gamma) * self.delta_theta * self.delta_theta\n"
   ]
  },
  {
   "cell_type": "code",
   "execution_count": 14,
   "metadata": {},
   "outputs": [],
   "source": [
    "class RMSProP(Optimizer):\n",
    "    def __init__(self, model, leaning_rate, weight_decay):\n",
    "        self.color = \"c\"\n",
    "        super(RMSProP, self).__init__(model=model)\n",
    "        self.G = np.zeros_like(self.model.diffs)\n",
    "        self.learning_rate = leaning_rate\n",
    "        self.weight_decay = weight_decay\n",
    "        self.epsilon = 1e-8\n",
    "\n",
    "    def step(self):\n",
    "        self.model.__calculate_gradient__()\n",
    "        self.G = self.weight_decay * self.G + (1 - self.weight_decay) * self.model.diffs * self.model.diffs\n",
    "        self.model.params -= self.learning_rate / np.sqrt(self.G + self.epsilon) * self.model.diffs\n"
   ]
  },
  {
   "cell_type": "code",
   "execution_count": 15,
   "metadata": {},
   "outputs": [],
   "source": [
    "Y_training = np.where(Y_training == -1, 0, Y_training)\n",
    "Y_validation = np.where(Y_validation == -1, 0, Y_validation)\n",
    "optimizers = [\n",
    "    SGD(model=LogisticRegression(n_features=123 + 1), learning_rate=0.00001, momentum=0.5),\n",
    "    NAG(model=LogisticRegression(n_features=123 + 1), learning_rate=0.00001, momentum=0.5),\n",
    "    Adam(model=LogisticRegression(n_features=123 + 1), beta=0.9, gamma=0.999, eta=0.1),\n",
    "    AdaDelta(model=LogisticRegression(n_features=123 + 1), gamma=0.95),\n",
    "    RMSProP(model=LogisticRegression(n_features=123 + 1), leaning_rate=0.1, weight_decay=0.9)\n",
    "]"
   ]
  },
  {
   "cell_type": "code",
   "execution_count": 16,
   "metadata": {},
   "outputs": [
    {
     "name": "stdout",
     "output_type": "stream",
     "text": [
      "\t\t\tLogisticRegression\n",
      "------------------------------------------------------------\n",
      "\t\t\tSGD\n",
      "------------------------------------------------------------\n",
      "             precision    recall  f1-score   support\n",
      "\n",
      "   positive      0.853     0.926     0.888     12435\n",
      "   negative      0.669     0.483     0.561      3846\n",
      "\n",
      "avg / total      0.809     0.821     0.811     16281\n",
      "\n",
      "\t\t\tNAG\n",
      "------------------------------------------------------------\n",
      "             precision    recall  f1-score   support\n",
      "\n",
      "   positive      0.848     0.913     0.880     12435\n",
      "   negative      0.627     0.472     0.539      3846\n",
      "\n",
      "avg / total      0.796     0.809     0.799     16281\n",
      "\n",
      "\t\t\tAdam\n",
      "------------------------------------------------------------\n",
      "             precision    recall  f1-score   support\n",
      "\n",
      "   positive      0.881     0.930     0.905     12435\n",
      "   negative      0.723     0.594     0.652      3846\n",
      "\n",
      "avg / total      0.844     0.850     0.845     16281\n",
      "\n",
      "\t\t\tAdaDelta\n",
      "------------------------------------------------------------\n",
      "             precision    recall  f1-score   support\n",
      "\n",
      "   positive      0.873     0.934     0.903     12435\n",
      "   negative      0.724     0.562     0.633      3846\n",
      "\n",
      "avg / total      0.838     0.846     0.839     16281\n",
      "\n",
      "\t\t\tRMSProP\n",
      "------------------------------------------------------------\n",
      "             precision    recall  f1-score   support\n",
      "\n",
      "   positive      0.842     0.969     0.901     12435\n",
      "   negative      0.803     0.412     0.545      3846\n",
      "\n",
      "avg / total      0.833     0.837     0.817     16281\n",
      "\n"
     ]
    }
   ],
   "source": [
    "max_epoch = 100\n",
    "batch_size = 10000\n",
    "for epoch in range(max_epoch):\n",
    "    indexes = np.random.randint(0, n_samples_training, size=batch_size)\n",
    "    for optimizer in optimizers:\n",
    "        optimizer.model.train(X_training[indexes], Y_training[indexes])\n",
    "        optimizer.step()\n",
    "        optimizer.model.validate(X_validation, Y_validation)\n",
    "\n",
    "from sklearn.metrics import classification_report\n",
    "\n",
    "print(\"\\t\\t\\t\"+optimizers[0].model.__class__.__name__)\n",
    "print(\"-\"*60)\n",
    "for optimizer in optimizers:\n",
    "    print(\"\\t\\t\\t\"+optimizer.__class__.__name__)\n",
    "    print(\"-\"*60)\n",
    "    print(classification_report(Y_validation,optimizer.model.predict(X_validation),target_names=[\"positive\", \"negative\"],digits=3))"
   ]
  },
  {
   "cell_type": "code",
   "execution_count": 17,
   "metadata": {},
   "outputs": [
    {
     "data": {
      "image/png": "[encoded data removed]",
      "text/plain": [
       "<Figure size 1152x648 with 1 Axes>"
      ]
     },
     "metadata": {
      "needs_background": "light"
     },
     "output_type": "display_data"
    }
   ],
   "source": [
    "import matplotlib.pyplot as plt\n",
    "%matplotlib inline\n",
    "plt.figure(figsize=(16,9))\n",
    "plt.xlabel(\"epoch\")\n",
    "plt.ylabel(\"loss\")\n",
    "plt.title(\"Logistic Regression and Stocastic Gradient Descent\")\n",
    "for optimizer in optimizers:\n",
    "    plt.plot(optimizer.model.recorder[\"validation\"], color=optimizer.color, label=optimizer.__class__.__name__)\n",
    "plt.legend()\n",
    "plt.show()"
   ]
  },
  {
   "cell_type": "code",
   "execution_count": null,
   "metadata": {},
   "outputs": [],
   "source": []
  }
 ],
 "metadata": {
  "kernelspec": {
   "display_name": "Python 3",
   "language": "python",
   "name": "python3"
  },
  "language_info": {
   "codemirror_mode": {
    "name": "ipython",
    "version": 3
   },
   "file_extension": ".py",
   "mimetype": "text/x-python",
   "name": "python",
   "nbconvert_exporter": "python",
   "pygments_lexer": "ipython3",
   "version": "3.7.0"
  }
 },
 "nbformat": 4,
 "nbformat_minor": 2
}
